{
 "cells": [
  {
   "cell_type": "code",
   "execution_count": 21,
   "id": "b1a2dc29",
   "metadata": {},
   "outputs": [],
   "source": [
    "import pandas as pd\n",
    "import numpy as np\n",
    "import matplotlib.pyplot as plt"
   ]
  },
  {
   "cell_type": "code",
   "execution_count": 22,
   "id": "bce9ccdc",
   "metadata": {},
   "outputs": [
    {
     "data": {
      "text/html": [
       "<div>\n",
       "<style scoped>\n",
       "    .dataframe tbody tr th:only-of-type {\n",
       "        vertical-align: middle;\n",
       "    }\n",
       "\n",
       "    .dataframe tbody tr th {\n",
       "        vertical-align: top;\n",
       "    }\n",
       "\n",
       "    .dataframe thead th {\n",
       "        text-align: right;\n",
       "    }\n",
       "</style>\n",
       "<table border=\"1\" class=\"dataframe\">\n",
       "  <thead>\n",
       "    <tr style=\"text-align: right;\">\n",
       "      <th></th>\n",
       "      <th>Date</th>\n",
       "      <th>USD (AM)</th>\n",
       "      <th>USD (PM)</th>\n",
       "      <th>GBP (AM)</th>\n",
       "      <th>GBP (PM)</th>\n",
       "      <th>EURO (AM)</th>\n",
       "      <th>EURO (PM)</th>\n",
       "    </tr>\n",
       "  </thead>\n",
       "  <tbody>\n",
       "    <tr>\n",
       "      <th>0</th>\n",
       "      <td>2001-01-02</td>\n",
       "      <td>272.80</td>\n",
       "      <td>271.10</td>\n",
       "      <td>183.026</td>\n",
       "      <td>181.617</td>\n",
       "      <td>288.677</td>\n",
       "      <td>287.334</td>\n",
       "    </tr>\n",
       "    <tr>\n",
       "      <th>1</th>\n",
       "      <td>2001-01-03</td>\n",
       "      <td>269.00</td>\n",
       "      <td>267.15</td>\n",
       "      <td>178.916</td>\n",
       "      <td>177.390</td>\n",
       "      <td>281.823</td>\n",
       "      <td>281.655</td>\n",
       "    </tr>\n",
       "    <tr>\n",
       "      <th>2</th>\n",
       "      <td>2001-01-04</td>\n",
       "      <td>268.75</td>\n",
       "      <td>267.10</td>\n",
       "      <td>178.869</td>\n",
       "      <td>178.352</td>\n",
       "      <td>282.538</td>\n",
       "      <td>282.049</td>\n",
       "    </tr>\n",
       "    <tr>\n",
       "      <th>3</th>\n",
       "      <td>2001-01-05</td>\n",
       "      <td>268.00</td>\n",
       "      <td>267.40</td>\n",
       "      <td>178.488</td>\n",
       "      <td>178.148</td>\n",
       "      <td>280.775</td>\n",
       "      <td>280.882</td>\n",
       "    </tr>\n",
       "    <tr>\n",
       "      <th>4</th>\n",
       "      <td>2001-01-08</td>\n",
       "      <td>268.60</td>\n",
       "      <td>268.30</td>\n",
       "      <td>178.769</td>\n",
       "      <td>178.664</td>\n",
       "      <td>282.410</td>\n",
       "      <td>282.481</td>\n",
       "    </tr>\n",
       "  </tbody>\n",
       "</table>\n",
       "</div>"
      ],
      "text/plain": [
       "         Date  USD (AM)  USD (PM)  GBP (AM)  GBP (PM)  EURO (AM)  EURO (PM)\n",
       "0  2001-01-02    272.80    271.10   183.026   181.617    288.677    287.334\n",
       "1  2001-01-03    269.00    267.15   178.916   177.390    281.823    281.655\n",
       "2  2001-01-04    268.75    267.10   178.869   178.352    282.538    282.049\n",
       "3  2001-01-05    268.00    267.40   178.488   178.148    280.775    280.882\n",
       "4  2001-01-08    268.60    268.30   178.769   178.664    282.410    282.481"
      ]
     },
     "execution_count": 22,
     "metadata": {},
     "output_type": "execute_result"
    }
   ],
   "source": [
    "data = pd.read_csv('gold.csv')\n",
    "data.head()"
   ]
  },
  {
   "cell_type": "code",
   "execution_count": 23,
   "id": "278f958d",
   "metadata": {},
   "outputs": [],
   "source": [
    "data['Date'] = pd.to_datetime(data['Date'])\n",
    "data.set_index('Date', inplace=True)"
   ]
  },
  {
   "cell_type": "code",
   "execution_count": 24,
   "id": "c38a6cb7",
   "metadata": {},
   "outputs": [
    {
     "data": {
      "text/html": [
       "<div>\n",
       "<style scoped>\n",
       "    .dataframe tbody tr th:only-of-type {\n",
       "        vertical-align: middle;\n",
       "    }\n",
       "\n",
       "    .dataframe tbody tr th {\n",
       "        vertical-align: top;\n",
       "    }\n",
       "\n",
       "    .dataframe thead th {\n",
       "        text-align: right;\n",
       "    }\n",
       "</style>\n",
       "<table border=\"1\" class=\"dataframe\">\n",
       "  <thead>\n",
       "    <tr style=\"text-align: right;\">\n",
       "      <th></th>\n",
       "      <th>EURO (PM)</th>\n",
       "    </tr>\n",
       "    <tr>\n",
       "      <th>Date</th>\n",
       "      <th></th>\n",
       "    </tr>\n",
       "  </thead>\n",
       "  <tbody>\n",
       "    <tr>\n",
       "      <th>2001-12-31</th>\n",
       "      <td>76003.233</td>\n",
       "    </tr>\n",
       "    <tr>\n",
       "      <th>2002-12-31</th>\n",
       "      <td>82013.701</td>\n",
       "    </tr>\n",
       "    <tr>\n",
       "      <th>2003-12-31</th>\n",
       "      <td>80634.106</td>\n",
       "    </tr>\n",
       "    <tr>\n",
       "      <th>2004-12-31</th>\n",
       "      <td>82924.128</td>\n",
       "    </tr>\n",
       "    <tr>\n",
       "      <th>2005-12-31</th>\n",
       "      <td>89579.195</td>\n",
       "    </tr>\n",
       "  </tbody>\n",
       "</table>\n",
       "</div>"
      ],
      "text/plain": [
       "            EURO (PM)\n",
       "Date                 \n",
       "2001-12-31  76003.233\n",
       "2002-12-31  82013.701\n",
       "2003-12-31  80634.106\n",
       "2004-12-31  82924.128\n",
       "2005-12-31  89579.195"
      ]
     },
     "execution_count": 24,
     "metadata": {},
     "output_type": "execute_result"
    }
   ],
   "source": [
    "resampled_data = data['EURO (PM)'].resample('Y').sum().to_frame()\n",
    "resampled_data.head()"
   ]
  },
  {
   "cell_type": "code",
   "execution_count": 25,
   "id": "dbc25d95",
   "metadata": {},
   "outputs": [],
   "source": [
    "resampled_data.index = resampled_data.index.year"
   ]
  },
  {
   "cell_type": "code",
   "execution_count": 26,
   "id": "9c535b47",
   "metadata": {},
   "outputs": [],
   "source": [
    "resampled_data.reset_index(inplace=True)\n",
    "resampled_data.rename(columns={'Date': 'Year'}, inplace=True)"
   ]
  },
  {
   "cell_type": "code",
   "execution_count": 27,
   "id": "70e5f6c0",
   "metadata": {},
   "outputs": [
    {
     "data": {
      "text/html": [
       "<div>\n",
       "<style scoped>\n",
       "    .dataframe tbody tr th:only-of-type {\n",
       "        vertical-align: middle;\n",
       "    }\n",
       "\n",
       "    .dataframe tbody tr th {\n",
       "        vertical-align: top;\n",
       "    }\n",
       "\n",
       "    .dataframe thead th {\n",
       "        text-align: right;\n",
       "    }\n",
       "</style>\n",
       "<table border=\"1\" class=\"dataframe\">\n",
       "  <thead>\n",
       "    <tr style=\"text-align: right;\">\n",
       "      <th></th>\n",
       "      <th>Year</th>\n",
       "      <th>EURO (PM)</th>\n",
       "    </tr>\n",
       "  </thead>\n",
       "  <tbody>\n",
       "    <tr>\n",
       "      <th>0</th>\n",
       "      <td>2001</td>\n",
       "      <td>76003.233</td>\n",
       "    </tr>\n",
       "    <tr>\n",
       "      <th>1</th>\n",
       "      <td>2002</td>\n",
       "      <td>82013.701</td>\n",
       "    </tr>\n",
       "    <tr>\n",
       "      <th>2</th>\n",
       "      <td>2003</td>\n",
       "      <td>80634.106</td>\n",
       "    </tr>\n",
       "    <tr>\n",
       "      <th>3</th>\n",
       "      <td>2004</td>\n",
       "      <td>82924.128</td>\n",
       "    </tr>\n",
       "    <tr>\n",
       "      <th>4</th>\n",
       "      <td>2005</td>\n",
       "      <td>89579.195</td>\n",
       "    </tr>\n",
       "  </tbody>\n",
       "</table>\n",
       "</div>"
      ],
      "text/plain": [
       "   Year  EURO (PM)\n",
       "0  2001  76003.233\n",
       "1  2002  82013.701\n",
       "2  2003  80634.106\n",
       "3  2004  82924.128\n",
       "4  2005  89579.195"
      ]
     },
     "execution_count": 27,
     "metadata": {},
     "output_type": "execute_result"
    }
   ],
   "source": [
    "resampled_data.head()"
   ]
  },
  {
   "cell_type": "code",
   "execution_count": 28,
   "id": "00089690",
   "metadata": {},
   "outputs": [],
   "source": [
    "years = resampled_data['Year'].tolist()\n",
    "Euro = resampled_data['EURO (PM)'].tolist()"
   ]
  },
  {
   "cell_type": "code",
   "execution_count": 29,
   "id": "a73d67c8",
   "metadata": {},
   "outputs": [],
   "source": [
    "X = [i - years[len(years) // 2] for i in years]\n",
    "x2 = [i ** 2 for i in X]\n",
    "xy = [i * j for i, j in zip(X, Euro)]\n",
    "\n",
    "n = len(years)\n",
    "b = (n * sum(xy) - sum(Euro) * sum(X)) / (n * sum(x2) - (sum(X) ** 2))\n",
    "a = (sum(Euro) - b * sum(X)) / n\n",
    "linear_trend = [a + b * X[i] for i in range(n)]"
   ]
  },
  {
   "cell_type": "code",
   "execution_count": 30,
   "id": "58ba2d56",
   "metadata": {},
   "outputs": [],
   "source": [
    "x3 = [i ** 3 for i in X]\n",
    "x4 = [i ** 4 for i in X]\n",
    "x2y = [i * j for i, j in zip(x2, Euro)]\n",
    "\n",
    "coeff = [[len(X), sum(X), sum(x2)],\n",
    "         [sum(X), sum(x2), sum(x3)],\n",
    "         [sum(x2), sum(x3), sum(x4)]]\n",
    "\n",
    "Y = [sum(Euro), sum(xy), sum(x2y)]\n",
    "A = np.array(coeff)\n",
    "B = np.array(Y)\n",
    "\n",
    "solution = np.linalg.solve(A, B)\n",
    "a_poly, b_poly, c_poly = solution\n",
    "poly_trend = [a_poly + b_poly * X[i] + c_poly * (X[i] ** 2) for i in range(n)]"
   ]
  },
  {
   "cell_type": "code",
   "execution_count": 31,
   "id": "26eaf7d2",
   "metadata": {},
   "outputs": [
    {
     "name": "stdout",
     "output_type": "stream",
     "text": [
      "Linear Trend: y=190691.38 + 13051.01x\n",
      "\n",
      "Polynomial Trend: y=218196.53 + 13051.01x + -916.84x²\n"
     ]
    }
   ],
   "source": [
    "print(f\"Linear Trend: y={a:.2f} + {b:.2f}x\")\n",
    "print(f\"\\nPolynomial Trend: y={a_poly:.2f} + {b_poly:.2f}x + {c_poly:.2f}x²\")"
   ]
  },
  {
   "cell_type": "code",
   "execution_count": 32,
   "id": "a4b73b0c",
   "metadata": {},
   "outputs": [],
   "source": [
    "resampled_data['Linear Trend'] = linear_trend\n",
    "resampled_data['Polynomial Trend'] = poly_trend"
   ]
  },
  {
   "cell_type": "code",
   "execution_count": 33,
   "id": "e8980a7d",
   "metadata": {},
   "outputs": [],
   "source": [
    "resampled_data.set_index('Year',inplace=True)"
   ]
  },
  {
   "cell_type": "code",
   "execution_count": 34,
   "id": "d02aba51",
   "metadata": {},
   "outputs": [
    {
     "data": {
      "text/plain": [
       "<Axes: xlabel='Year'>"
      ]
     },
     "execution_count": 34,
     "metadata": {},
     "output_type": "execute_result"
    },
    {
     "data": {
      "image/png": "[encoded data removed]",
      "text/plain": [
       "<Figure size 640x480 with 1 Axes>"
      ]
     },
     "metadata": {},
     "output_type": "display_data"
    }
   ],
   "source": [
    "resampled_data['EURO (PM)'].plot(kind='line',color='blue',marker='o') \n",
    "resampled_data['Linear Trend'].plot(kind='line',color='black',linestyle='--')"
   ]
  },
  {
   "cell_type": "code",
   "execution_count": 35,
   "id": "44f3b7a0",
   "metadata": {},
   "outputs": [
    {
     "data": {
      "text/plain": [
       "<Axes: xlabel='Year'>"
      ]
     },
     "execution_count": 35,
     "metadata": {},
     "output_type": "execute_result"
    },
    {
     "data": {
      "image/png": "[encoded data removed]",
      "text/plain": [
       "<Figure size 640x480 with 1 Axes>"
      ]
     },
     "metadata": {},
     "output_type": "display_data"
    }
   ],
   "source": [
    "resampled_data['EURO (PM)'].plot(kind='line',color='blue',marker='o')\n",
    "resampled_data['Polynomial Trend'].plot(kind='line',color='black',marker='o')"
   ]
  }
 ],
 "metadata": {
  "kernelspec": {
   "display_name": "Python 3 (ipykernel)",
   "language": "python",
   "name": "python3"
  },
  "language_info": {
   "codemirror_mode": {
    "name": "ipython",
    "version": 3
   },
   "file_extension": ".py",
   "mimetype": "text/x-python",
   "name": "python",
   "nbconvert_exporter": "python",
   "pygments_lexer": "ipython3",
   "version": "3.11.3"
  }
 },
 "nbformat": 4,
 "nbformat_minor": 5
}
